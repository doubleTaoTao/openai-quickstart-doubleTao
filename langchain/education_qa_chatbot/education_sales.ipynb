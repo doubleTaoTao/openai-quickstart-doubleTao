{
 "cells": [
  {
   "cell_type": "markdown",
   "id": "69032b4b-b031-4020-beb0-e8dfd22b660e",
   "metadata": {},
   "source": [
    "# homework: 教育培训行业销售聊天机器人\n",
    "\n",
    "### 完成内容：\n",
    "1、使用GPT-4生成咨询销售话术，并生成文件education_question_data.txt  \n",
    "2、处理数据、文本分割、使用Faiss持久化话术问答对  \n",
    "3、使用retriever获取问答信息，提取faiss中的话术回答。（设置k=3、设置threshold：0.7/0.8/0.85）  \n",
    "4、当Faiss中没有合适回答时，使用GPT-4能力予以回复  "
   ]
  },
  {
   "cell_type": "markdown",
   "id": "0f3e2d5a-c2ff-4faf-b153-d1751c25fae0",
   "metadata": {},
   "source": [
    "#### 1、使用 GPT-4 构造教育培训机构咨询话术，供销售参考\n",
    "\n",
    "https://platform.openai.com/playground/p/9uHlnWvFAujGi7515Uur4dDl?model=gpt-4&mode=chat\n",
    "\n",
    "\n",
    "使用 ChatGPT 构造销售数据的 Prompt 示例：\n",
    "\n",
    "```\n",
    "你是中国顶尖的教育培训机构的销售顾问，主要培训课程包括雅思英语、python编程和初高中数理化等、现在培训职场新人。\n",
    "请给出30条实用的销售话术。每条话术格式以如下格式给出：\n",
    "[客户问题]\n",
    "[销售回答]\n",
    "\n",
    "```\n",
    "\n",
    "GPT-4 回复结果：（部分）\n",
    "\n",
    "```\n",
    "1. \n",
    "[客户问题]: 贵机构的雅思英语培训课程具体包括什么内容？\n",
    "[销售回答]: 我们的雅思英语课程非常全面，不仅覆盖听、说、读、写四个方面，还结合实战演练，帮助您在真实环境中提高英语水平。它是专门为准备雅思考试的学生量身定制的学习方案。\n",
    "\n",
    "2. \n",
    "[客户问题]: 为什么我要选择你们的初高中数理化课程？\n",
    "[销售回答]: 不同于其他机构，我们拥有丰富经验的专业教师团队，他们不仅教书，更注重引导学生的学习方法和思维模式。我们的课程内容针对性强，有针对性地解决学生深度理解及考试应用的问题。\n",
    "\n",
    "3. \n",
    "[客户问题]: 我编程一窍不通，Python编程是否适合我？\n",
    "[销售回答]: 当然了，我们针对从未接触过编程的新手设计了基础课程，从编程语言基础到逻辑思维的培养，一步一步带你进入编程的世界。另外，Python是一种非常友好的编程语言，非常适合初学者。\n",
    "\n",
    "4. \n",
    "[客户问题]: 你们的课程贵吗？\n",
    "[销售回答]: 我们的课程价格在同类型课程中处于中等水平。但是考虑到我们的高质量教学，提供的学习材料，以及随课程附带的辅导服务，这其实是一笔非常值得投资的费用。\n",
    "\n",
    "5. \n",
    "[客户问题]: 你们的教师资质如何呢？\n",
    "[销售回答]: 我们所有的教师都是经过严格挑选的专家，在他们的领域内拥有丰富的教学经验和专业知识，可以为您提供质量上乘的教学体验。\n",
    "\n",
    "6. \n",
    "[客户问题]: 我忙于工作，如果不能按时参加课程怎么办？\n",
    "[销售回答]: 我们理解每个人的时间都很宝贵，所以我们提供了录播视频的服务，只要您有空，任何时候都可以学习。\n",
    "\n",
    "7. \n",
    "[客户问题]: 如果我付费了，但上了课发现不适合我怎么办？\n",
    "[销售回答]: 我们提供了灵活的退款政策，如果您在试听课程后觉得不适合自己，我们可以无条件退款。\n",
    "\n",
    "8. \n",
    "[客户问题]: 这个Python课程有多难，我需要提前准备什么?\n",
    "[销售回答]: 我们的Python课程分为初级和高级两个阶段，初级阶段无需任何基础，只要你有学习的热情，我们的教师会从零开始教你。\n",
    "\n",
    "```\n",
    "\n",
    "\n",
    "#### 2、使用 Document Transformers 模块来处理原始数据\n",
    "\n",
    "\n",
    "将 ChatGPT 生成的结果保存到 [education_question_data.txt](education_question_data.txt) 文件中"
   ]
  },
  {
   "cell_type": "code",
   "execution_count": 1,
   "id": "efcee928-b9f4-4e4a-b9fb-f6cbee21b642",
   "metadata": {},
   "outputs": [],
   "source": [
    "with open(\"education_question_data.txt\") as f:\n",
    "    education_question_data = f.read()"
   ]
  },
  {
   "cell_type": "markdown",
   "id": "a9119556-d2e3-4edf-be16-15837da156f1",
   "metadata": {
    "jupyter": {
     "source_hidden": true
    }
   },
   "source": [
    "### 使用 CharacterTextSplitter 来进行文本分割\n"
   ]
  },
  {
   "cell_type": "code",
   "execution_count": 2,
   "id": "dbe535b8-2bd8-4c31-91d7-eba8aa61b3ef",
   "metadata": {},
   "outputs": [],
   "source": [
    "from langchain.text_splitter import CharacterTextSplitter"
   ]
  },
  {
   "cell_type": "code",
   "execution_count": 3,
   "id": "a4f30d9b-9fc6-4860-a497-0aa8220b9284",
   "metadata": {},
   "outputs": [],
   "source": [
    "text_splitter = CharacterTextSplitter(        \n",
    "    separator = r'\\d+\\.',\n",
    "    chunk_size = 100,\n",
    "    chunk_overlap  = 0,\n",
    "    length_function = len,\n",
    "    is_separator_regex = True,\n",
    ")"
   ]
  },
  {
   "cell_type": "code",
   "execution_count": 4,
   "id": "530f3172-17a5-4924-ad17-284fbca422ae",
   "metadata": {},
   "outputs": [
    {
     "name": "stderr",
     "output_type": "stream",
     "text": [
      "Created a chunk of size 120, which is longer than the specified 100\n",
      "Created a chunk of size 123, which is longer than the specified 100\n",
      "Created a chunk of size 129, which is longer than the specified 100\n",
      "Created a chunk of size 101, which is longer than the specified 100\n",
      "Created a chunk of size 102, which is longer than the specified 100\n",
      "Created a chunk of size 103, which is longer than the specified 100\n",
      "Created a chunk of size 127, which is longer than the specified 100\n",
      "Created a chunk of size 116, which is longer than the specified 100\n",
      "Created a chunk of size 118, which is longer than the specified 100\n",
      "Created a chunk of size 105, which is longer than the specified 100\n",
      "Created a chunk of size 122, which is longer than the specified 100\n",
      "Created a chunk of size 106, which is longer than the specified 100\n",
      "Created a chunk of size 104, which is longer than the specified 100\n",
      "Created a chunk of size 117, which is longer than the specified 100\n",
      "Created a chunk of size 135, which is longer than the specified 100\n",
      "Created a chunk of size 115, which is longer than the specified 100\n",
      "Created a chunk of size 138, which is longer than the specified 100\n",
      "Created a chunk of size 125, which is longer than the specified 100\n",
      "Created a chunk of size 121, which is longer than the specified 100\n",
      "Created a chunk of size 125, which is longer than the specified 100\n"
     ]
    }
   ],
   "source": [
    "docs = text_splitter.create_documents([education_question_data])"
   ]
  },
  {
   "cell_type": "code",
   "execution_count": 5,
   "id": "3956ec36-706e-4f43-88fc-d704f2984290",
   "metadata": {},
   "outputs": [
    {
     "data": {
      "text/plain": [
       "'[客户问题]: 贵机构的雅思英语培训课程具体包括什么内容？\\n[销售回答]: 我们的雅思英语课程非常全面，不仅覆盖听、说、读、写四个方面，还结合实战演练，帮助您在真实环境中提高英语水平。它是专门为准备雅思考试的学生量身定制的学习方案。'"
      ]
     },
     "execution_count": 5,
     "metadata": {},
     "output_type": "execute_result"
    }
   ],
   "source": [
    "docs[0].page_content"
   ]
  },
  {
   "cell_type": "code",
   "execution_count": 6,
   "id": "73b2d47a-27ae-4cd4-a72a-3809b4c22bff",
   "metadata": {},
   "outputs": [
    {
     "data": {
      "text/plain": [
       "30"
      ]
     },
     "execution_count": 6,
     "metadata": {},
     "output_type": "execute_result"
    }
   ],
   "source": [
    "len(docs)"
   ]
  },
  {
   "cell_type": "markdown",
   "id": "e4617858-ad9c-42eb-a4c3-6bfb7108cdd2",
   "metadata": {},
   "source": [
    "### 使用 Faiss 作为向量数据库，持久化存储房产销售 问答对（QA-Pair）"
   ]
  },
  {
   "cell_type": "code",
   "execution_count": 7,
   "id": "508c2ab2-e187-424f-a43c-ca3d3b1a0550",
   "metadata": {},
   "outputs": [],
   "source": [
    "#from langchain.embeddings.openai import OpenAIEmbeddings\n",
    "from langchain.text_splitter import CharacterTextSplitter\n",
    "from langchain.vectorstores import FAISS\n",
    "from langchain_openai import OpenAIEmbeddings # langchain0.1.13\n",
    "\n",
    "# langchain_community.embeddings.openai.OpenAIEmbeddings\n",
    "db = FAISS.from_documents(docs, OpenAIEmbeddings())"
   ]
  },
  {
   "cell_type": "code",
   "execution_count": 8,
   "id": "0d18fcc6-c2be-434b-b8de-9648ac6f83f4",
   "metadata": {},
   "outputs": [],
   "source": [
    "answer_list = db.similarity_search(\"你们的课程贵不贵\")"
   ]
  },
  {
   "cell_type": "code",
   "execution_count": 9,
   "id": "7fd93f06",
   "metadata": {},
   "outputs": [
    {
     "name": "stdout",
     "output_type": "stream",
     "text": [
      "[客户问题]: 你们的课程贵吗？\n",
      "[销售回答]: 我们的课程价格在同类型课程中处于中等水平。但是考虑到我们的高质量教学，提供的学习材料，以及随课程附带的辅导服务，这其实是一笔非常值得投资的费用。\n",
      "\n",
      "[客户问题]\n",
      "你们的价格是怎么计算的？\n",
      "[销售回答]\n",
      "我们的价格主要是依据课程的内容、时长以及教师资质进行计算的。我们承诺，每一分钱都会用在提升您的学习体验和教学质量上。\n",
      "\n",
      "[客户问题]: 你们的课程时间安排是怎样的？\n",
      "[销售回答]: 我们的课程时间非常灵活，我们有早班，中班和晚班，并且周末也有课程，可以根据您的时间自由选择。\n",
      "\n",
      "[客户问题]\n",
      "你们初高中数理化的课程难度如何？我担心孩子学不来。\n",
      "[销售回答]\n",
      "请您放心，我们的课程会根据学生的基础和接受能力进行适当调整，确保每位学生都能跟上课程的进度。我们重视激发学生的学习兴趣，用富有趣味性的教学方式，让学生在快乐中学习。\n",
      "\n"
     ]
    }
   ],
   "source": [
    "for ans in answer_list:\n",
    "    print(ans.page_content + \"\\n\")"
   ]
  },
  {
   "cell_type": "code",
   "execution_count": 10,
   "id": "a6cc47bf-1566-472f-84d2-a46bd634907c",
   "metadata": {},
   "outputs": [],
   "source": [
    "db.save_local(\"education_question_data\")"
   ]
  },
  {
   "cell_type": "markdown",
   "id": "0d5323e5-03fa-4c1c-b896-3ccc28af1857",
   "metadata": {},
   "source": [
    "#### 3、使用 retriever 从向量数据库中获取结果\n",
    "\n",
    "#### 使用参数 `k` 指定返回结果数量\n"
   ]
  },
  {
   "cell_type": "code",
   "execution_count": 11,
   "id": "17f051c9-8676-48d1-a9a4-e69b52630faf",
   "metadata": {},
   "outputs": [],
   "source": [
    "# 实例化一个 TopK Retriever\n",
    "topK_retriever = db.as_retriever(search_kwargs={\"k\": 3})"
   ]
  },
  {
   "cell_type": "code",
   "execution_count": 12,
   "id": "7efb1414-859f-4818-bacd-e1e2edf34b95",
   "metadata": {},
   "outputs": [
    {
     "name": "stdout",
     "output_type": "stream",
     "text": [
      "[客户问题]: 你们的课程贵吗？\n",
      "[销售回答]: 我们的课程价格在同类型课程中处于中等水平。但是考虑到我们的高质量教学，提供的学习材料，以及随课程附带的辅导服务，这其实是一笔非常值得投资的费用。\n",
      "\n",
      "[客户问题]\n",
      "你们的价格是怎么计算的？\n",
      "[销售回答]\n",
      "我们的价格主要是依据课程的内容、时长以及教师资质进行计算的。我们承诺，每一分钱都会用在提升您的学习体验和教学质量上。\n",
      "\n",
      "[客户问题]: 你们的课程时间安排是怎样的？\n",
      "[销售回答]: 我们的课程时间非常灵活，我们有早班，中班和晚班，并且周末也有课程，可以根据您的时间自由选择。\n",
      "\n"
     ]
    }
   ],
   "source": [
    "docs = topK_retriever.get_relevant_documents(\"你们的课程贵不贵\")\n",
    "for doc in docs:\n",
    "    print(doc.page_content + \"\\n\")"
   ]
  },
  {
   "cell_type": "markdown",
   "id": "b335c9e5-bc01-4a47-916c-03bec0e7a839",
   "metadata": {},
   "source": [
    "#### 使用 similarity_score_threshold 设置阈值，提升结果的相关性质量"
   ]
  },
  {
   "cell_type": "code",
   "execution_count": 13,
   "id": "b1298956-6cf3-4a68-a3c2-a3149f64f156",
   "metadata": {},
   "outputs": [],
   "source": [
    "# 实例化一个 similarity_score_threshold Retriever\n",
    "retriever = db.as_retriever(\n",
    "    search_type=\"similarity_score_threshold\",\n",
    "    search_kwargs={\"score_threshold\": 0.85}\n",
    ")"
   ]
  },
  {
   "cell_type": "code",
   "execution_count": 14,
   "id": "d61167de-72ed-4618-a2e1-5df04784a3bc",
   "metadata": {},
   "outputs": [
    {
     "name": "stdout",
     "output_type": "stream",
     "text": [
      "[客户问题]: 你们的课程贵吗？\n",
      "[销售回答]: 我们的课程价格在同类型课程中处于中等水平。但是考虑到我们的高质量教学，提供的学习材料，以及随课程附带的辅导服务，这其实是一笔非常值得投资的费用。\n",
      "\n"
     ]
    }
   ],
   "source": [
    "docs = retriever.get_relevant_documents(\"你们的课程贵不贵\")\n",
    "for doc in docs:\n",
    "    print(doc.page_content + \"\\n\")"
   ]
  },
  {
   "cell_type": "markdown",
   "id": "c31344ce-f952-4604-b700-fdbb34da1e28",
   "metadata": {},
   "source": [
    "### 提取向量数据库中的`销售回答`"
   ]
  },
  {
   "cell_type": "code",
   "execution_count": 15,
   "id": "25768463-da65-4762-978d-51c0c3a9c24b",
   "metadata": {},
   "outputs": [
    {
     "data": {
      "text/plain": [
       "['[客户问题]: 你们的课程贵吗？',\n",
       " '[销售回答]: 我们的课程价格在同类型课程中处于中等水平。但是考虑到我们的高质量教学，提供的学习材料，以及随课程附带的辅导服务，这其实是一笔非常值得投资的费用。']"
      ]
     },
     "execution_count": 15,
     "metadata": {},
     "output_type": "execute_result"
    }
   ],
   "source": [
    "docs = retriever.get_relevant_documents(\"你们的课程贵不贵\")\n",
    "docs[0].page_content.split(\"\\n\")"
   ]
  },
  {
   "cell_type": "markdown",
   "id": "b36b61a5-156d-4546-bbd1-8a983e94676b",
   "metadata": {},
   "source": [
    "#### 尝试各种问题"
   ]
  },
  {
   "cell_type": "code",
   "execution_count": 16,
   "id": "c311a656-e571-45d6-8690-88e4be2c2a65",
   "metadata": {},
   "outputs": [],
   "source": [
    "from typing import List\n",
    "\n",
    "def sales(query: str, score_threshold: float=0.8) -> List[str]:\n",
    "    retriever = db.as_retriever(search_type=\"similarity_score_threshold\", search_kwargs={\"score_threshold\": score_threshold})    \n",
    "    docs = retriever.get_relevant_documents(query)\n",
    "    ans_list = [doc.page_content.split(\"[销售回答] \")[-1] for doc in docs]\n",
    "\n",
    "    return ans_list"
   ]
  },
  {
   "cell_type": "code",
   "execution_count": 17,
   "id": "2f4c6c08-b97c-4727-9aa1-a474d85a11e4",
   "metadata": {},
   "outputs": [
    {
     "name": "stdout",
     "output_type": "stream",
     "text": [
      "['[客户问题]: 贵机构的雅思英语培训课程具体包括什么内容？\\n[销售回答]: 我们的雅思英语课程非常全面，不仅覆盖听、说、读、写四个方面，还结合实战演练，帮助您在真实环境中提高英语水平。它是专门为准备雅思考试的学生量身定制的学习方案。', '[客户问题]\\n我想提高我的英语水平，但不确定你们的雅思英语课程是否适合我？\\n[销售回答]\\n没问题，我们的雅思英语课程会根据学员的具体情况进行量身定制，会涵盖听、说、读、写全方位的提升，向我们的专业导师表达您的需求，他们会为您设计最适合您的学习计划。', '[客户问题]\\n你们的英语课程只针对雅思考试吗？\\n[销售回答]\\n我们的英语课程除了专门针对雅思考试，还有针对托福、商务英语、日常英语等不同需求的课程。无论你是要出国留学，还是需要提升工作用英语，我们都能为你定制合适的学习计划。', '[客户问题]: 你们的课程时间安排是怎样的？\\n[销售回答]: 我们的课程时间非常灵活，我们有早班，中班和晚班，并且周末也有课程，可以根据您的时间自由选择。']\n"
     ]
    }
   ],
   "source": [
    "query = \"雅思培训课程有吗\"\n",
    "print(sales(query, 0.75))"
   ]
  },
  {
   "cell_type": "code",
   "execution_count": 18,
   "id": "fc5b030a-ae6f-4d42-9577-1420c78aecb1",
   "metadata": {},
   "outputs": [
    {
     "name": "stdout",
     "output_type": "stream",
     "text": [
      "score:0.8 ans: ['[客户问题]\\n你们的Python编程课程包括哪些内容？\\n[销售回答]\\n我们的Python编程课程覆盖了从基础到高级的所有内容，包括Python语法、数据结构、面向对象编程、常用库的使用等。同时我们注重实践操作，会让学员在完成具体的项目中，真正掌握和应用所学的知识。', '[客户问题]\\n你们的价格是怎么计算的？\\n[销售回答]\\n我们的价格主要是依据课程的内容、时长以及教师资质进行计算的。我们承诺，每一分钱都会用在提升您的学习体验和教学质量上。']\n",
      "\n"
     ]
    },
    {
     "name": "stdout",
     "output_type": "stream",
     "text": [
      "score:0.75 ans: ['[客户问题]\\n你们的Python编程课程包括哪些内容？\\n[销售回答]\\n我们的Python编程课程覆盖了从基础到高级的所有内容，包括Python语法、数据结构、面向对象编程、常用库的使用等。同时我们注重实践操作，会让学员在完成具体的项目中，真正掌握和应用所学的知识。', '[客户问题]\\n你们的价格是怎么计算的？\\n[销售回答]\\n我们的价格主要是依据课程的内容、时长以及教师资质进行计算的。我们承诺，每一分钱都会用在提升您的学习体验和教学质量上。', '[客户问题]: 你们的课程贵吗？\\n[销售回答]: 我们的课程价格在同类型课程中处于中等水平。但是考虑到我们的高质量教学，提供的学习材料，以及随课程附带的辅导服务，这其实是一笔非常值得投资的费用。', '[客户问题]: 这个Python课程有多难，我需要提前准备什么?\\n[销售回答]: 我们的Python课程分为初级和高级两个阶段，初级阶段无需任何基础，只要你有学习的热情，我们的教师会从零开始教你。']\n",
      "\n",
      "score:0.5 ans: ['[客户问题]\\n你们的Python编程课程包括哪些内容？\\n[销售回答]\\n我们的Python编程课程覆盖了从基础到高级的所有内容，包括Python语法、数据结构、面向对象编程、常用库的使用等。同时我们注重实践操作，会让学员在完成具体的项目中，真正掌握和应用所学的知识。', '[客户问题]\\n你们的价格是怎么计算的？\\n[销售回答]\\n我们的价格主要是依据课程的内容、时长以及教师资质进行计算的。我们承诺，每一分钱都会用在提升您的学习体验和教学质量上。', '[客户问题]: 你们的课程贵吗？\\n[销售回答]: 我们的课程价格在同类型课程中处于中等水平。但是考虑到我们的高质量教学，提供的学习材料，以及随课程附带的辅导服务，这其实是一笔非常值得投资的费用。', '[客户问题]: 这个Python课程有多难，我需要提前准备什么?\\n[销售回答]: 我们的Python课程分为初级和高级两个阶段，初级阶段无需任何基础，只要你有学习的热情，我们的教师会从零开始教你。']\n",
      "\n"
     ]
    }
   ],
   "source": [
    "query = \"你们python编程课程的价格如何\"\n",
    "\n",
    "print(f\"score:0.8 ans: {sales(query)}\\n\")\n",
    "print(f\"score:0.75 ans: {sales(query, 0.75)}\\n\")\n",
    "print(f\"score:0.5 ans: {sales(query, 0.5)}\\n\")"
   ]
  },
  {
   "cell_type": "markdown",
   "id": "9e26e6d7-259b-4ecf-9c72-027befba4e3b",
   "metadata": {},
   "source": [
    "#### 4、引入GPT-4使用大语言模型能力润色话术或者回复没有的问题"
   ]
  },
  {
   "cell_type": "code",
   "execution_count": 19,
   "id": "9142feb4-980a-4142-b367-1401021dceef",
   "metadata": {},
   "outputs": [],
   "source": [
    "from langchain.chains import RetrievalQA\n",
    "from langchain_openai import ChatOpenAI\n",
    "\n",
    "llm = ChatOpenAI(model_name=\"gpt-4\", temperature=0.5) # gpt-4-1106-preview\n",
    "qa_chain = RetrievalQA.from_chain_type(llm,\n",
    "                                       retriever=db.as_retriever(search_type=\"similarity_score_threshold\",\n",
    "                                                                 search_kwargs={\"score_threshold\": 0.8}))"
   ]
  },
  {
   "cell_type": "code",
   "execution_count": 20,
   "id": "d281b560-54bb-4a25-a1dc-b23874361654",
   "metadata": {},
   "outputs": [
    {
     "data": {
      "text/plain": [
       "{'query': '你们有雅思考试培训课程吗？课程安排如何？',\n",
       " 'result': '是的，我们有专门针对雅思考试的培训课程。这个课程非常全面，覆盖听、说、读、写四个方面，并结合实战演练。关于课程安排，我们的时间非常灵活，有早班，中班和晚班，并且周末也有课程，可以根据您的时间自由选择。'}"
      ]
     },
     "execution_count": 20,
     "metadata": {},
     "output_type": "execute_result"
    }
   ],
   "source": [
    "qa_chain.invoke({\"query\":\"你们有雅思考试培训课程吗？课程安排如何？\"}) # 使用GPT-4润色回答"
   ]
  },
  {
   "cell_type": "code",
   "execution_count": 21,
   "id": "9da44bd6-02ef-4fb6-8e9e-7c99aeba483a",
   "metadata": {},
   "outputs": [
    {
     "name": "stdout",
     "output_type": "stream",
     "text": [
      "[客户问题]\n",
      "你们的英语课程只针对雅思考试吗？\n",
      "[销售回答]\n",
      "我们的英语课程除了专门针对雅思考试，还有针对托福、商务英语、日常英语等不同需求的课程。无论你是要出国留学，还是需要提升工作用英语，我们都能为你定制合适的学习计划。\n"
     ]
    }
   ],
   "source": [
    "print(sales(\"你们有雅思考试培训课程吗？课程安排如何？\")[0]) # 没有引入GPT-4"
   ]
  },
  {
   "cell_type": "markdown",
   "id": "0a0647e8-5b41-4c93-87c2-3240ec558717",
   "metadata": {},
   "source": [
    "## 加载 FAISS 向量数据库已有结果"
   ]
  },
  {
   "cell_type": "code",
   "execution_count": 22,
   "id": "913edd04-37ea-4c3f-9346-086aeb0ab447",
   "metadata": {},
   "outputs": [],
   "source": [
    "from langchain_openai import OpenAIEmbeddings\n",
    "from langchain.vectorstores import FAISS\n",
    "\n",
    "edu_qa_db = FAISS.load_local(\"education_question_data\", OpenAIEmbeddings(), allow_dangerous_deserialization=True)"
   ]
  },
  {
   "cell_type": "code",
   "execution_count": 23,
   "id": "77d8eee4-6383-4b4a-9737-95ea9fc53b87",
   "metadata": {},
   "outputs": [
    {
     "name": "stderr",
     "output_type": "stream",
     "text": [
      "/root/miniconda3/envs/langchain/lib/python3.10/site-packages/langchain_core/_api/deprecation.py:117: LangChainDeprecationWarning: The class `langchain_community.chat_models.openai.ChatOpenAI` was deprecated in langchain-community 0.0.10 and will be removed in 0.2.0. An updated version of the class exists in the langchain-openai package and should be used instead. To use it run `pip install -U langchain-openai` and import as `from langchain_openai import ChatOpenAI`.\n",
      "  warn_deprecated(\n"
     ]
    }
   ],
   "source": [
    "from langchain.chains import RetrievalQA\n",
    "from langchain.chat_models import ChatOpenAI\n",
    "\n",
    "llm = ChatOpenAI(model_name=\"gpt-4\", temperature=0.5)\n",
    "edu_qa_chain = RetrievalQA.from_chain_type(llm,\n",
    "                                       retriever=edu_qa_db.as_retriever(search_type=\"similarity_score_threshold\",\n",
    "                                                                 search_kwargs={\"score_threshold\": 0.8}))"
   ]
  },
  {
   "cell_type": "code",
   "execution_count": 24,
   "id": "5dfac197-cadb-47d7-8cbe-1b07a83fc8e1",
   "metadata": {},
   "outputs": [
    {
     "name": "stderr",
     "output_type": "stream",
     "text": [
      "/root/miniconda3/envs/langchain/lib/python3.10/site-packages/langchain_core/_api/deprecation.py:117: LangChainDeprecationWarning: The function `__call__` was deprecated in LangChain 0.1.0 and will be removed in 0.2.0. Use invoke instead.\n",
      "  warn_deprecated(\n"
     ]
    },
    {
     "data": {
      "text/plain": [
       "{'query': '你们有雅思考试培训课程吗？课程安排如何？',\n",
       " 'result': '是的，我们提供雅思英语课程，课程非常全面，覆盖听、说、读、写四个方面，并结合实战演练。我们的课程时间安排非常灵活，我们有早班，中班和晚班，并且周末也有课程，可以根据您的时间自由选择。'}"
      ]
     },
     "execution_count": 24,
     "metadata": {},
     "output_type": "execute_result"
    }
   ],
   "source": [
    "edu_qa_chain({\"query\": \"你们有雅思考试培训课程吗？课程安排如何？\"})"
   ]
  },
  {
   "cell_type": "code",
   "execution_count": 25,
   "id": "fc393afc-06d3-4483-bd24-efe000ef5f2a",
   "metadata": {},
   "outputs": [
    {
     "name": "stdout",
     "output_type": "stream",
     "text": [
      "\n",
      "\n",
      "\u001b[1m> Entering new StuffDocumentsChain chain...\u001b[0m\n",
      "\n",
      "\u001b[1m> Finished chain.\u001b[0m\n"
     ]
    },
    {
     "data": {
      "text/plain": [
       "{'query': '你们有雅思考试培训课程吗？课程安排如何？',\n",
       " 'result': '是的，我们有专门针对雅思考试的培训课程。课程内容非常全面，覆盖听、说、读、写四个方面，并结合实战演练，帮助您在真实环境中提高英语水平。关于课程时间，我们非常灵活，我们有早班，中班和晚班，并且周末也有课程，可以根据您的时间自由选择。'}"
      ]
     },
     "execution_count": 25,
     "metadata": {},
     "output_type": "execute_result"
    }
   ],
   "source": [
    "# 输出内部 Chain 的日志\n",
    "edu_qa_chain.combine_documents_chain.verbose = True\n",
    "edu_qa_chain({\"query\": \"你们有雅思考试培训课程吗？课程安排如何？\"})"
   ]
  },
  {
   "cell_type": "code",
   "execution_count": 26,
   "id": "e5fb0943-ffe9-4270-8dbe-f5f5314e6042",
   "metadata": {},
   "outputs": [
    {
     "name": "stdout",
     "output_type": "stream",
     "text": [
      "\n",
      "\n",
      "\u001b[1m> Entering new StuffDocumentsChain chain...\u001b[0m\n"
     ]
    },
    {
     "name": "stdout",
     "output_type": "stream",
     "text": [
      "\n",
      "\u001b[1m> Finished chain.\u001b[0m\n"
     ]
    },
    {
     "data": {
      "text/plain": [
       "{'query': '你们有雅思考试培训课程吗？课程安排如何？',\n",
       " 'result': '是的，我们有专门针对雅思考试的培训课程，内容全面，覆盖听、说、读、写四个方面，并结合实战演练。关于课程时间，我们非常灵活，我们有早班，中班和晚班，并且周末也有课程，可以根据您的时间自由选择。',\n",
       " 'source_documents': [Document(page_content='[客户问题]\\n你们的英语课程只针对雅思考试吗？\\n[销售回答]\\n我们的英语课程除了专门针对雅思考试，还有针对托福、商务英语、日常英语等不同需求的课程。无论你是要出国留学，还是需要提升工作用英语，我们都能为你定制合适的学习计划。'),\n",
       "  Document(page_content='[客户问题]\\n我想提高我的英语水平，但不确定你们的雅思英语课程是否适合我？\\n[销售回答]\\n没问题，我们的雅思英语课程会根据学员的具体情况进行量身定制，会涵盖听、说、读、写全方位的提升，向我们的专业导师表达您的需求，他们会为您设计最适合您的学习计划。'),\n",
       "  Document(page_content='[客户问题]: 贵机构的雅思英语培训课程具体包括什么内容？\\n[销售回答]: 我们的雅思英语课程非常全面，不仅覆盖听、说、读、写四个方面，还结合实战演练，帮助您在真实环境中提高英语水平。它是专门为准备雅思考试的学生量身定制的学习方案。'),\n",
       "  Document(page_content='[客户问题]: 你们的课程时间安排是怎样的？\\n[销售回答]: 我们的课程时间非常灵活，我们有早班，中班和晚班，并且周末也有课程，可以根据您的时间自由选择。')]}"
      ]
     },
     "execution_count": 26,
     "metadata": {},
     "output_type": "execute_result"
    }
   ],
   "source": [
    "# 返回向量数据库的检索结果\n",
    "edu_qa_chain.return_source_documents = True\n",
    "result = edu_qa_chain({\"query\": \"你们有雅思考试培训课程吗？课程安排如何？\"})\n",
    "result"
   ]
  }
 ],
 "metadata": {
  "kernelspec": {
   "display_name": "Python 3 (ipykernel)",
   "language": "python",
   "name": "python3"
  },
  "language_info": {
   "codemirror_mode": {
    "name": "ipython",
    "version": 3
   },
   "file_extension": ".py",
   "mimetype": "text/x-python",
   "name": "python",
   "nbconvert_exporter": "python",
   "pygments_lexer": "ipython3",
   "version": "3.10.0"
  }
 },
 "nbformat": 4,
 "nbformat_minor": 5
}
