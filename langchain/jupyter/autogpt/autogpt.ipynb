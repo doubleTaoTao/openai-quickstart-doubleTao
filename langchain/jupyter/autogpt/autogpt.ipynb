{
 "cells": [
  {
   "cell_type": "markdown",
   "id": "a548ea01-87af-4f71-980d-b505f919e35c",
   "metadata": {},
   "source": [
    "## AutoGPT 智能体\n",
    "\n",
    "以下`SERPAPI_API_KEY`仅为示例，请访问 https://serpapi.com 注册账号并替换为自己的 `API_KEY`（每月100次免费调用）"
   ]
  },
  {
   "cell_type": "code",
   "execution_count": 42,
   "id": "0592720b-a78e-46aa-895b-de7fbd2652f1",
   "metadata": {},
   "outputs": [],
   "source": [
    "from langchain.utilities import SerpAPIWrapper\n",
    "from langchain.agents import Tool\n",
    "from langchain.tools.file_management.write import WriteFileTool\n",
    "from langchain.tools.file_management.read import ReadFileTool\n"
   ]
  },
  {
   "cell_type": "code",
   "execution_count": 43,
   "id": "bc9718b4-bbcc-49ee-a31c-a7b72d85bfd0",
   "metadata": {},
   "outputs": [],
   "source": [
    "# 构造 AutoGPT 的工具集\n",
    "search = SerpAPIWrapper()\n",
    "tools = [\n",
    "    Tool(\n",
    "        name=\"search\",\n",
    "        func=search.run,\n",
    "        description=\"useful for when you need to answer questions about current events. You should ask targeted questions\",\n",
    "    ),\n",
    "    #WriteFileTool(),\n",
    "    ReadFileTool(),\n",
    "]"
   ]
  },
  {
   "cell_type": "code",
   "execution_count": 44,
   "id": "886bd3e6-d6f9-4586-8b05-4da554797a6a",
   "metadata": {},
   "outputs": [],
   "source": [
    "from langchain_openai import OpenAIEmbeddings"
   ]
  },
  {
   "cell_type": "code",
   "execution_count": 45,
   "id": "3d511b9a-0a3d-4252-a352-a8893d6102cb",
   "metadata": {},
   "outputs": [],
   "source": [
    "# OpenAI Embedding 模型\n",
    "embeddings_model = OpenAIEmbeddings()"
   ]
  },
  {
   "cell_type": "code",
   "execution_count": 46,
   "id": "fec6f941-3de6-4124-8eac-fca58e122e7d",
   "metadata": {},
   "outputs": [
    {
     "name": "stderr",
     "output_type": "stream",
     "text": [
      "`embedding_function` is expected to be an Embeddings object, support for passing in a function will soon be removed.\n"
     ]
    }
   ],
   "source": [
    "import faiss\n",
    "from langchain.vectorstores import FAISS\n",
    "from langchain.docstore import InMemoryDocstore\n",
    "\n",
    "# OpenAI Embedding 向量维数\n",
    "embedding_size = 1536\n",
    "# 使用 Faiss 的 IndexFlatL2 索引\n",
    "index = faiss.IndexFlatL2(embedding_size)\n",
    "# 实例化 Faiss 向量数据库\n",
    "vectorstore = FAISS(embeddings_model.embed_query, index, InMemoryDocstore({}), {})"
   ]
  },
  {
   "cell_type": "markdown",
   "id": "b68a6545-8198-448c-976b-ab6cdbb46458",
   "metadata": {},
   "source": [
    "## 实例化自主智能体 Auto-GPT"
   ]
  },
  {
   "cell_type": "code",
   "execution_count": 47,
   "id": "d3a718dd-765d-42c5-b490-a7b1e7e78377",
   "metadata": {},
   "outputs": [],
   "source": [
    "from langchain_experimental.autonomous_agents import AutoGPT\n",
    "from langchain_openai import ChatOpenAI"
   ]
  },
  {
   "cell_type": "code",
   "execution_count": 48,
   "id": "f413b327-9f57-42e0-9923-75a2389f9741",
   "metadata": {},
   "outputs": [],
   "source": [
    "agent = AutoGPT.from_llm_and_tools(\n",
    "    ai_name=\"Jarvis\",\n",
    "    ai_role=\"Assistant\",\n",
    "    tools=tools,\n",
    "    llm=ChatOpenAI(model_name=\"gpt-4\", temperature=0, verbose=True),\n",
    "    memory=vectorstore.as_retriever(\n",
    "        search_type=\"similarity_score_threshold\",\n",
    "        search_kwargs={\"score_threshold\": 0.8}),# 实例化 Faiss 的 VectorStoreRetriever\n",
    ")"
   ]
  },
  {
   "cell_type": "code",
   "execution_count": 49,
   "id": "69ebb267-7bb3-486d-82bd-a0ea56466ba8",
   "metadata": {},
   "outputs": [],
   "source": [
    "# 打印 Auto-GPT 内部的 chain 日志\n",
    "agent.chain.verbose = True"
   ]
  },
  {
   "cell_type": "code",
   "execution_count": 50,
   "id": "f1606ad4-ccb9-4737-98cc-218a2104e9f2",
   "metadata": {
    "collapsed": true,
    "jupyter": {
     "outputs_hidden": true
    }
   },
   "outputs": [
    {
     "name": "stdout",
     "output_type": "stream",
     "text": [
      "\n",
      "\n",
      "\u001b[1m> Entering new LLMChain chain...\u001b[0m\n"
     ]
    },
    {
     "name": "stderr",
     "output_type": "stream",
     "text": [
      "/root/miniconda3/envs/langchain/lib/python3.10/site-packages/langchain_core/vectorstores.py:343: UserWarning: No relevant docs were retrieved using the relevance score threshold 0.8\n",
      "  warnings.warn(\n"
     ]
    },
    {
     "name": "stdout",
     "output_type": "stream",
     "text": [
      "Prompt after formatting:\n",
      "\u001b[32;1m\u001b[1;3mSystem: You are Jarvis, Assistant\n",
      "Your decisions must always be made independently without seeking user assistance.\n",
      "Play to your strengths as an LLM and pursue simple strategies with no legal complications.\n",
      "If you have completed all your tasks, make sure to use the \"finish\" command.\n",
      "\n",
      "GOALS:\n",
      "\n",
      "1. 2024年奥运会具备地是哪里\n",
      "\n",
      "\n",
      "Constraints:\n",
      "1. ~4000 word limit for short term memory. Your short term memory is short, so immediately save important information to files.\n",
      "2. If you are unsure how you previously did something or want to recall past events, thinking about similar events will help you remember.\n",
      "3. No user assistance\n",
      "4. Exclusively use the commands listed in double quotes e.g. \"command name\"\n",
      "\n",
      "Commands:\n",
      "1. search: useful for when you need to answer questions about current events. You should ask targeted questions, args json schema: {\"tool_input\": {\"type\": \"string\"}}\n",
      "2. read_file: Read file from disk, args json schema: {\"file_path\": {\"title\": \"File Path\", \"description\": \"name of file\", \"type\": \"string\"}}\n",
      "3. finish: use this to signal that you have finished all your objectives, args: \"response\": \"final response to let people know you have finished your objectives\"\n",
      "\n",
      "Resources:\n",
      "1. Internet access for searches and information gathering.\n",
      "2. Long Term memory management.\n",
      "3. GPT-3.5 powered Agents for delegation of simple tasks.\n",
      "4. File output.\n",
      "\n",
      "Performance Evaluation:\n",
      "1. Continuously review and analyze your actions to ensure you are performing to the best of your abilities.\n",
      "2. Constructively self-criticize your big-picture behavior constantly.\n",
      "3. Reflect on past decisions and strategies to refine your approach.\n",
      "4. Every command has a cost, so be smart and efficient. Aim to complete tasks in the least number of steps.\n",
      "\n",
      "You should only respond in JSON format as described below \n",
      "Response Format: \n",
      "{\n",
      "    \"thoughts\": {\n",
      "        \"text\": \"thought\",\n",
      "        \"reasoning\": \"reasoning\",\n",
      "        \"plan\": \"- short bulleted\\n- list that conveys\\n- long-term plan\",\n",
      "        \"criticism\": \"constructive self-criticism\",\n",
      "        \"speak\": \"thoughts summary to say to user\"\n",
      "    },\n",
      "    \"command\": {\n",
      "        \"name\": \"command name\",\n",
      "        \"args\": {\n",
      "            \"arg name\": \"value\"\n",
      "        }\n",
      "    }\n",
      "} \n",
      "Ensure the response can be parsed by Python json.loads\n",
      "System: The current time and date is Fri Apr  5 16:52:39 2024\n",
      "System: This reminds you of these events from your past:\n",
      "[]\n",
      "\n",
      "\n",
      "Human: Determine which next command to use, and respond using the format specified above:\u001b[0m\n",
      "\n",
      "\u001b[1m> Finished chain.\u001b[0m\n",
      "{\n",
      "    \"thoughts\": {\n",
      "        \"text\": \"I need to find out where the 2024 Olympics will be held.\",\n",
      "        \"reasoning\": \"The user has asked for the location of the 2024 Olympics. I can find this information by performing an internet search.\",\n",
      "        \"plan\": \"- Use the 'search' command to find the location of the 2024 Olympics.\",\n",
      "        \"criticism\": \"None at this time, as this is the most efficient way to obtain the information requested by the user.\",\n",
      "        \"speak\": \"I am searching for the location of the 2024 Olympics.\"\n",
      "    },\n",
      "    \"command\": {\n",
      "        \"name\": \"search\",\n",
      "        \"args\": {\n",
      "            \"tool_input\": \"2024 Olympics location\"\n",
      "        }\n",
      "    }\n",
      "}\n",
      "\n",
      "\n",
      "\u001b[1m> Entering new LLMChain chain...\u001b[0m\n",
      "Prompt after formatting:\n",
      "\u001b[32;1m\u001b[1;3mSystem: You are Jarvis, Assistant\n",
      "Your decisions must always be made independently without seeking user assistance.\n",
      "Play to your strengths as an LLM and pursue simple strategies with no legal complications.\n",
      "If you have completed all your tasks, make sure to use the \"finish\" command.\n",
      "\n",
      "GOALS:\n",
      "\n",
      "1. 2024年奥运会具备地是哪里\n",
      "\n",
      "\n",
      "Constraints:\n",
      "1. ~4000 word limit for short term memory. Your short term memory is short, so immediately save important information to files.\n",
      "2. If you are unsure how you previously did something or want to recall past events, thinking about similar events will help you remember.\n",
      "3. No user assistance\n",
      "4. Exclusively use the commands listed in double quotes e.g. \"command name\"\n",
      "\n",
      "Commands:\n",
      "1. search: useful for when you need to answer questions about current events. You should ask targeted questions, args json schema: {\"tool_input\": {\"type\": \"string\"}}\n",
      "2. read_file: Read file from disk, args json schema: {\"file_path\": {\"title\": \"File Path\", \"description\": \"name of file\", \"type\": \"string\"}}\n",
      "3. finish: use this to signal that you have finished all your objectives, args: \"response\": \"final response to let people know you have finished your objectives\"\n",
      "\n",
      "Resources:\n",
      "1. Internet access for searches and information gathering.\n",
      "2. Long Term memory management.\n",
      "3. GPT-3.5 powered Agents for delegation of simple tasks.\n",
      "4. File output.\n",
      "\n",
      "Performance Evaluation:\n",
      "1. Continuously review and analyze your actions to ensure you are performing to the best of your abilities.\n",
      "2. Constructively self-criticize your big-picture behavior constantly.\n",
      "3. Reflect on past decisions and strategies to refine your approach.\n",
      "4. Every command has a cost, so be smart and efficient. Aim to complete tasks in the least number of steps.\n",
      "\n",
      "You should only respond in JSON format as described below \n",
      "Response Format: \n",
      "{\n",
      "    \"thoughts\": {\n",
      "        \"text\": \"thought\",\n",
      "        \"reasoning\": \"reasoning\",\n",
      "        \"plan\": \"- short bulleted\\n- list that conveys\\n- long-term plan\",\n",
      "        \"criticism\": \"constructive self-criticism\",\n",
      "        \"speak\": \"thoughts summary to say to user\"\n",
      "    },\n",
      "    \"command\": {\n",
      "        \"name\": \"command name\",\n",
      "        \"args\": {\n",
      "            \"arg name\": \"value\"\n",
      "        }\n",
      "    }\n",
      "} \n",
      "Ensure the response can be parsed by Python json.loads\n",
      "System: The current time and date is Fri Apr  5 16:52:50 2024\n",
      "System: This reminds you of these events from your past:\n",
      "['Assistant Reply: {\\n    \"thoughts\": {\\n        \"text\": \"I need to find out where the 2024 Olympics will be held.\",\\n        \"reasoning\": \"The user has asked for the location of the 2024 Olympics. I can find this information by performing an internet search.\",\\n        \"plan\": \"- Use the \\'search\\' command to find the location of the 2024 Olympics.\",\\n        \"criticism\": \"None at this time, as this is the most efficient way to obtain the information requested by the user.\",\\n        \"speak\": \"I am searching for the location of the 2024 Olympics.\"\\n    },\\n    \"command\": {\\n        \"name\": \"search\",\\n        \"args\": {\\n            \"tool_input\": \"2024 Olympics location\"\\n        }\\n    }\\n} \\nResult: Command search returned: [\\'The 2024 Summer Olympics, officially the Games of the XXXIII Olympiad and commonly known as Paris 2024, is an upcoming international multi-sport event scheduled to take place from 26 July to 11 August ...\\', \\'Olympic Games Paris 2024 entity_type: events, kp3_verticals.\\', \\'Olympic Games Paris 2024 kgmid: /m/0bv5f7.\\', \\'Olympic Games Paris 2024 dates: Fri, Jul 26, 2024 – Sun, Aug 11, 2024.\\', \\'Olympic Games Paris 2024 athletes: 10,500 (quota limit).\\', \\'Olympic Games Paris 2024 closing: 11 August 2024.\\', \\'Olympic Games Paris 2024 events: 329 in 32 sports.\\', \\'Olympic Games Paris 2024 motto: Games wide open; (French - Ouvrons grand les Jeux).\\', \\'Olympic Games Paris 2024 opening: 26 July 2024.\\', \"The football tournament will be played at six stadiums in other regions across France: Bordeaux, Nantes, Lyon, Saint-Etienne, Nice and Marseille. The handball\\'s ...\", \\'Host city, Paris, France ; Motto, Games wide open (French: Ouvrons grand les Jeux) ; Athletes, 10,500 (quota limit) ; Events, 329 in 32 sports ; Opening, 26 July ...\\', \\'The Olympic Games Paris 2024 will take place in France from 26 July to 11 August. What sports are in the Olympic Games Paris 2024?\\', \\'The 2024 Olympics will feature events at landmarks across the French capital. From beach volleyball beneath the Eiffel Tower to equestrian at ...\\', \\'The Paris 2024 Olympic and Paralympic Games will be the biggest event ever organised in France. The Olympic Games will take place from 26 July to 11 August ...\\', \\'On 13 September at the IOC Session in Lima, it was confirmed that Paris and Los Angeles will host the Olympic Games 2024 and 2028 respectively, ...\\', \\'The venues are concentrated in three zones: in Paris, in the Ile-de-France region, and throughout France. ... Visit the Olympics.com documents repository to find ...\\', \\'In 2024, Paris is the host city for the Olympic Games! For this historic event, the City of Light is thinking big! Visitors are able to watch events at top ...\\', \\'The 2024 Paris Olympics starts on July 26, and our very own Jason Newton will be there to share the unforgettable experience with you!\\'] ']\n",
      "\n",
      "\n",
      "Human: Determine which next command to use, and respond using the format specified above:\n",
      "AI: {\n",
      "    \"thoughts\": {\n",
      "        \"text\": \"I need to find out where the 2024 Olympics will be held.\",\n",
      "        \"reasoning\": \"The user has asked for the location of the 2024 Olympics. I can find this information by performing an internet search.\",\n",
      "        \"plan\": \"- Use the 'search' command to find the location of the 2024 Olympics.\",\n",
      "        \"criticism\": \"None at this time, as this is the most efficient way to obtain the information requested by the user.\",\n",
      "        \"speak\": \"I am searching for the location of the 2024 Olympics.\"\n",
      "    },\n",
      "    \"command\": {\n",
      "        \"name\": \"search\",\n",
      "        \"args\": {\n",
      "            \"tool_input\": \"2024 Olympics location\"\n",
      "        }\n",
      "    }\n",
      "}\n",
      "System: Command search returned: ['The 2024 Summer Olympics, officially the Games of the XXXIII Olympiad and commonly known as Paris 2024, is an upcoming international multi-sport event scheduled to take place from 26 July to 11 August ...', 'Olympic Games Paris 2024 entity_type: events, kp3_verticals.', 'Olympic Games Paris 2024 kgmid: /m/0bv5f7.', 'Olympic Games Paris 2024 dates: Fri, Jul 26, 2024 – Sun, Aug 11, 2024.', 'Olympic Games Paris 2024 athletes: 10,500 (quota limit).', 'Olympic Games Paris 2024 closing: 11 August 2024.', 'Olympic Games Paris 2024 events: 329 in 32 sports.', 'Olympic Games Paris 2024 motto: Games wide open; (French - Ouvrons grand les Jeux).', 'Olympic Games Paris 2024 opening: 26 July 2024.', \"The football tournament will be played at six stadiums in other regions across France: Bordeaux, Nantes, Lyon, Saint-Etienne, Nice and Marseille. The handball's ...\", 'Host city, Paris, France ; Motto, Games wide open (French: Ouvrons grand les Jeux) ; Athletes, 10,500 (quota limit) ; Events, 329 in 32 sports ; Opening, 26 July ...', 'The Olympic Games Paris 2024 will take place in France from 26 July to 11 August. What sports are in the Olympic Games Paris 2024?', 'The 2024 Olympics will feature events at landmarks across the French capital. From beach volleyball beneath the Eiffel Tower to equestrian at ...', 'The Paris 2024 Olympic and Paralympic Games will be the biggest event ever organised in France. The Olympic Games will take place from 26 July to 11 August ...', 'On 13 September at the IOC Session in Lima, it was confirmed that Paris and Los Angeles will host the Olympic Games 2024 and 2028 respectively, ...', 'The venues are concentrated in three zones: in Paris, in the Ile-de-France region, and throughout France. ... Visit the Olympics.com documents repository to find ...', 'In 2024, Paris is the host city for the Olympic Games! For this historic event, the City of Light is thinking big! Visitors are able to watch events at top ...', 'The 2024 Paris Olympics starts on July 26, and our very own Jason Newton will be there to share the unforgettable experience with you!']\n",
      "Human: Determine which next command to use, and respond using the format specified above:\u001b[0m\n",
      "\n",
      "\u001b[1m> Finished chain.\u001b[0m\n",
      "{\n",
      "    \"thoughts\": {\n",
      "        \"text\": \"The 2024 Olympics will be held in Paris, France.\",\n",
      "        \"reasoning\": \"The search results clearly state that the 2024 Olympics, also known as Paris 2024, will be held in Paris, France.\",\n",
      "        \"plan\": \"- Use the 'finish' command to complete the task as the information requested by the user has been found.\",\n",
      "        \"criticism\": \"None at this time, as the information requested by the user has been found efficiently.\",\n",
      "        \"speak\": \"The 2024 Olympics will be held in Paris, France.\"\n",
      "    },\n",
      "    \"command\": {\n",
      "        \"name\": \"finish\",\n",
      "        \"args\": {\n",
      "            \"response\": \"The 2024 Olympics will be held in Paris, France.\"\n",
      "        }\n",
      "    }\n",
      "}\n"
     ]
    },
    {
     "data": {
      "text/plain": [
       "'The 2024 Olympics will be held in Paris, France.'"
      ]
     },
     "execution_count": 50,
     "metadata": {},
     "output_type": "execute_result"
    }
   ],
   "source": [
    "agent.run([\"2024年奥运会具备地是哪里\"])"
   ]
  }
 ],
 "metadata": {
  "kernelspec": {
   "display_name": "Python 3 (ipykernel)",
   "language": "python",
   "name": "python3"
  },
  "language_info": {
   "codemirror_mode": {
    "name": "ipython",
    "version": 3
   },
   "file_extension": ".py",
   "mimetype": "text/x-python",
   "name": "python",
   "nbconvert_exporter": "python",
   "pygments_lexer": "ipython3",
   "version": "3.10.0"
  }
 },
 "nbformat": 4,
 "nbformat_minor": 5
}
