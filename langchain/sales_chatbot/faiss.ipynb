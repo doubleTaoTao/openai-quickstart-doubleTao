{
 "cells": [
  {
   "cell_type": "code",
   "execution_count": 1,
   "id": "19e0870e-353e-447a-b429-334625bc1d72",
   "metadata": {},
   "outputs": [
    {
     "name": "stdout",
     "output_type": "stream",
     "text": [
      "Requirement already satisfied: faiss-cpu in /root/miniconda3/envs/langchain/lib/python3.10/site-packages (1.8.0)\n",
      "Requirement already satisfied: numpy in /root/miniconda3/envs/langchain/lib/python3.10/site-packages (from faiss-cpu) (1.26.4)\n",
      "\u001b[33mWARNING: Running pip as the 'root' user can result in broken permissions and conflicting behaviour with the system package manager. It is recommended to use a virtual environment instead: https://pip.pypa.io/warnings/venv\u001b[0m\u001b[33m\n",
      "\u001b[0m"
     ]
    }
   ],
   "source": [
    "!pip install faiss-cpu"
   ]
  },
  {
   "cell_type": "code",
   "execution_count": 2,
   "id": "74edc7c2-2f05-40d3-98c9-c1c4d13bf819",
   "metadata": {},
   "outputs": [],
   "source": [
    "# 需要 CUDA 7.5+ 版本支持的 GPU\n",
    "#!pip install faiss-gpu "
   ]
  },
  {
   "cell_type": "markdown",
   "id": "cfd2fec5-84f0-429d-903a-08933bf19cfa",
   "metadata": {},
   "source": [
    "# Faiss 向量数据库"
   ]
  },
  {
   "cell_type": "code",
   "execution_count": 18,
   "id": "03b26ecf-987a-4c53-b7fa-cc566363276d",
   "metadata": {},
   "outputs": [],
   "source": [
    "from langchain_openai import OpenAIEmbeddings\n",
    "from langchain.text_splitter import CharacterTextSplitter\n",
    "from langchain.vectorstores import FAISS\n",
    "from langchain.document_loaders import TextLoader"
   ]
  },
  {
   "cell_type": "code",
   "execution_count": 19,
   "id": "cb5d79ae-6fe5-4fff-bfab-30762c1f1188",
   "metadata": {},
   "outputs": [],
   "source": [
    "# 实例化文档加载器\n",
    "loader = TextLoader(\"../jupyter/tests/state_of_the_union.txt\")\n",
    "# 加载文档\n",
    "documents = loader.load()"
   ]
  },
  {
   "cell_type": "code",
   "execution_count": 20,
   "id": "9b404e22-a148-4b63-a69c-54b1e76db5d3",
   "metadata": {},
   "outputs": [],
   "source": [
    "# 实例化文本分割器\n",
    "text_splitter = CharacterTextSplitter(chunk_size=1000, chunk_overlap=0)\n",
    "# 分割文本\n",
    "docs = text_splitter.split_documents(documents)"
   ]
  },
  {
   "cell_type": "code",
   "execution_count": 21,
   "id": "34897ff3-8f9c-42d6-841f-e06c0d2f521c",
   "metadata": {
    "collapsed": true,
    "jupyter": {
     "outputs_hidden": true
    }
   },
   "outputs": [
    {
     "data": {
      "text/plain": [
       "'Madam Speaker, Madam Vice President, our First Lady and Second Gentleman. Members of Congress and the Cabinet. Justices of the Supreme Court. My fellow Americans.  \\n\\nLast year COVID-19 kept us apart. This year we are finally together again. \\n\\nTonight, we meet as Democrats Republicans and Independents. But most importantly as Americans. \\n\\nWith a duty to one another to the American people to the Constitution. \\n\\nAnd with an unwavering resolve that freedom will always triumph over tyranny. \\n\\nSix days ago, Russia’s Vladimir Putin sought to shake the foundations of the free world thinking he could make it bend to his menacing ways. But he badly miscalculated. \\n\\nHe thought he could roll into Ukraine and the world would roll over. Instead he met a wall of strength he never imagined. \\n\\nHe met the Ukrainian people. \\n\\nFrom President Zelenskyy to every Ukrainian, their fearlessness, their courage, their determination, inspires the world.'"
      ]
     },
     "execution_count": 21,
     "metadata": {},
     "output_type": "execute_result"
    }
   ],
   "source": [
    "docs[0].page_content"
   ]
  },
  {
   "cell_type": "code",
   "execution_count": 22,
   "id": "4f755948-f125-44c8-8505-0ca0759c15ff",
   "metadata": {},
   "outputs": [],
   "source": [
    "# OpenAI Embedding 模型\n",
    "embeddings = OpenAIEmbeddings()"
   ]
  },
  {
   "cell_type": "code",
   "execution_count": 23,
   "id": "8bcd5edb-c085-4a6f-8f50-0885a6d2f15b",
   "metadata": {},
   "outputs": [],
   "source": [
    "# FAISS 向量数据库，使用 docs 的向量作为初始化存储\n",
    "db = FAISS.from_documents(docs, embeddings)"
   ]
  },
  {
   "cell_type": "code",
   "execution_count": 24,
   "id": "c227bec9-fbe0-46a5-8a86-7bfaf6fe5882",
   "metadata": {},
   "outputs": [],
   "source": [
    "# 构造提问 Query\n",
    "query = \"What did the president say about Ketanji Brown Jackson\""
   ]
  },
  {
   "cell_type": "markdown",
   "id": "f3443153-da85-4f33-bd8d-18bccd3eae18",
   "metadata": {},
   "source": [
    "## 相似度搜索"
   ]
  },
  {
   "cell_type": "code",
   "execution_count": 25,
   "id": "8fbbbf2e-0ff8-49d9-a378-09e2a0443a77",
   "metadata": {},
   "outputs": [],
   "source": [
    "# 在 Faiss 中进行相似度搜索，找出与 query 最相似结果\n",
    "docs = db.similarity_search(query)"
   ]
  },
  {
   "cell_type": "code",
   "execution_count": 26,
   "id": "918221f6-9687-4b04-a6b4-20527b111023",
   "metadata": {
    "collapsed": true,
    "jupyter": {
     "outputs_hidden": true
    }
   },
   "outputs": [
    {
     "name": "stdout",
     "output_type": "stream",
     "text": [
      "Tonight. I call on the Senate to: Pass the Freedom to Vote Act. Pass the John Lewis Voting Rights Act. And while you’re at it, pass the Disclose Act so Americans can know who is funding our elections. \n",
      "\n",
      "Tonight, I’d like to honor someone who has dedicated his life to serve this country: Justice Stephen Breyer—an Army veteran, Constitutional scholar, and retiring Justice of the United States Supreme Court. Justice Breyer, thank you for your service. \n",
      "\n",
      "One of the most serious constitutional responsibilities a President has is nominating someone to serve on the United States Supreme Court. \n",
      "\n",
      "And I did that 4 days ago, when I nominated Circuit Court of Appeals Judge Ketanji Brown Jackson. One of our nation’s top legal minds, who will continue Justice Breyer’s legacy of excellence.\n"
     ]
    }
   ],
   "source": [
    "# 输出 Faiss 中最相似结果\n",
    "print(docs[0].page_content)"
   ]
  },
  {
   "cell_type": "markdown",
   "id": "8d5a351e-bea4-43d3-9b31-567842aaa1c9",
   "metadata": {},
   "source": [
    "## 持久化存储 Faiss DB"
   ]
  },
  {
   "cell_type": "code",
   "execution_count": 27,
   "id": "44f4df2f-ed07-4322-9cfc-7044fc18ed1a",
   "metadata": {},
   "outputs": [],
   "source": [
    "db.save_local(\"faiss_index\")"
   ]
  },
  {
   "cell_type": "markdown",
   "id": "346ca9d7-f4bf-4579-a301-7a6964492a31",
   "metadata": {},
   "source": [
    "## 加载 Faiss DB"
   ]
  },
  {
   "cell_type": "code",
   "execution_count": 33,
   "id": "9fa104c6",
   "metadata": {},
   "outputs": [],
   "source": [
    "new_db = FAISS.load_local(\"faiss_index\", embeddings, allow_dangerous_deserialization=True)"
   ]
  },
  {
   "cell_type": "code",
   "execution_count": 34,
   "id": "8c81f9f3-1650-4737-adec-d09380f1b8d9",
   "metadata": {},
   "outputs": [],
   "source": [
    "docs = new_db.similarity_search(query)"
   ]
  },
  {
   "cell_type": "code",
   "execution_count": 35,
   "id": "0524202a-199c-4284-81d7-c6febf2b584e",
   "metadata": {},
   "outputs": [
    {
     "name": "stdout",
     "output_type": "stream",
     "text": [
      "Tonight. I call on the Senate to: Pass the Freedom to Vote Act. Pass the John Lewis Voting Rights Act. And while you’re at it, pass the Disclose Act so Americans can know who is funding our elections. \n",
      "\n",
      "Tonight, I’d like to honor someone who has dedicated his life to serve this country: Justice Stephen Breyer—an Army veteran, Constitutional scholar, and retiring Justice of the United States Supreme Court. Justice Breyer, thank you for your service. \n",
      "\n",
      "One of the most serious constitutional responsibilities a President has is nominating someone to serve on the United States Supreme Court. \n",
      "\n",
      "And I did that 4 days ago, when I nominated Circuit Court of Appeals Judge Ketanji Brown Jackson. One of our nation’s top legal minds, who will continue Justice Breyer’s legacy of excellence.\n"
     ]
    }
   ],
   "source": [
    "print(docs[0].page_content)"
   ]
  },
  {
   "cell_type": "code",
   "execution_count": null,
   "id": "ac22b688-6e25-41ea-aab0-cb70fd148c64",
   "metadata": {},
   "outputs": [],
   "source": []
  }
 ],
 "metadata": {
  "kernelspec": {
   "display_name": "Python 3 (ipykernel)",
   "language": "python",
   "name": "python3"
  },
  "language_info": {
   "codemirror_mode": {
    "name": "ipython",
    "version": 3
   },
   "file_extension": ".py",
   "mimetype": "text/x-python",
   "name": "python",
   "nbconvert_exporter": "python",
   "pygments_lexer": "ipython3",
   "version": "3.10.0"
  }
 },
 "nbformat": 4,
 "nbformat_minor": 5
}
